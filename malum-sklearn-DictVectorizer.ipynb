{
 "cells": [
  {
   "cell_type": "code",
   "execution_count": 22,
   "metadata": {},
   "outputs": [
    {
     "data": {
      "text/plain": [
       "[{'price': 850000, 'rooms': 4, 'neighborhood': 'Copacabana'},\n",
       " {'price': 700000, 'rooms': 3, 'neighborhood': 'Ipanema'},\n",
       " {'price': 650000, 'rooms': 3, 'neighborhood': 'Brooklyn'},\n",
       " {'price': 600000, 'rooms': 2, 'neighborhood': 'Queens'},\n",
       " {'price': 600000, 'rooms': 2, 'neighborhood': 'Copacabana'}]"
      ]
     },
     "execution_count": 22,
     "metadata": {},
     "output_type": "execute_result"
    }
   ],
   "source": [
    "data = [\n",
    "    {'price': 850000, 'rooms': 4, 'neighborhood': 'Copacabana'},\n",
    "    {'price': 700000, 'rooms': 3, 'neighborhood': 'Ipanema'},\n",
    "    {'price': 650000, 'rooms': 3, 'neighborhood': 'Brooklyn'},\n",
    "    {'price': 600000, 'rooms': 2, 'neighborhood': 'Queens'},\n",
    "    {'price': 600000, 'rooms': 2, 'neighborhood': 'Copacabana'}\n",
    "]\n",
    "data"
   ]
  },
  {
   "cell_type": "code",
   "execution_count": 23,
   "metadata": {},
   "outputs": [
    {
     "data": {
      "text/plain": [
       "array([[     0,      1,      0,      0, 850000,      4],\n",
       "       [     0,      0,      1,      0, 700000,      3],\n",
       "       [     1,      0,      0,      0, 650000,      3],\n",
       "       [     0,      0,      0,      1, 600000,      2],\n",
       "       [     0,      1,      0,      0, 600000,      2]], dtype=int32)"
      ]
     },
     "execution_count": 23,
     "metadata": {},
     "output_type": "execute_result"
    }
   ],
   "source": [
    "from sklearn.feature_extraction import DictVectorizer\n",
    "vec = DictVectorizer(sparse=False, dtype=int)\n",
    "vec.fit_transform(data)"
   ]
  },
  {
   "cell_type": "code",
   "execution_count": 24,
   "metadata": {},
   "outputs": [
    {
     "data": {
      "text/plain": [
       "['neighborhood=Brooklyn',\n",
       " 'neighborhood=Copacabana',\n",
       " 'neighborhood=Ipanema',\n",
       " 'neighborhood=Queens',\n",
       " 'price',\n",
       " 'rooms']"
      ]
     },
     "execution_count": 24,
     "metadata": {},
     "output_type": "execute_result"
    }
   ],
   "source": [
    "vec.get_feature_names()"
   ]
  },
  {
   "cell_type": "code",
   "execution_count": null,
   "metadata": {},
   "outputs": [],
   "source": []
  }
 ],
 "metadata": {
  "kernelspec": {
   "display_name": "Python 3",
   "language": "python",
   "name": "python3"
  },
  "language_info": {
   "codemirror_mode": {
    "name": "ipython",
    "version": 3
   },
   "file_extension": ".py",
   "mimetype": "text/x-python",
   "name": "python",
   "nbconvert_exporter": "python",
   "pygments_lexer": "ipython3",
   "version": "3.7.3"
  }
 },
 "nbformat": 4,
 "nbformat_minor": 2
}
