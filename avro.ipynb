{
 "cells": [
  {
   "cell_type": "code",
   "execution_count": null,
   "metadata": {
    "scrolled": true
   },
   "outputs": [],
   "source": [
    "#https://malum.com.br/wp/2019/07/09/avro/\n",
    "\n",
    "#1\n",
    "!pip install avro-python3\n",
    "!pip install requests\n",
    "!pip install pandas"
   ]
  },
  {
   "cell_type": "code",
   "execution_count": null,
   "metadata": {},
   "outputs": [],
   "source": [
    "#2\n",
    "import requests\n",
    "import pandas as pd\n",
    "\n",
    "\n",
    "dataRequest = requests.get(url='http://api.tvmaze.com/singlesearch/shows?q=game-of-thrones&embed=episodes')\n",
    "data_json = dataRequest.json()\n",
    "\n",
    "from pandas.io.json import json_normalize\n",
    "\n",
    "data_normalize = json_normalize(\n",
    "                                    #Dados deserializados\n",
    "                                    #Unserialized JSON objects\n",
    "                                    data=data_json['_embedded']\n",
    "    \n",
    "                                    #Caminho do objeto aonde estão os dados\n",
    "                                    #path of the data that you need\n",
    "                                    ,record_path='episodes'\n",
    "                                    #Prefixo das colunas. Recomendado usar para evitar ambiguidade de colunas\n",
    "                                    # Columns prefix. Recommended to use to avoid ambiguous name columns                                    \n",
    "                                    ,record_prefix='got_'\n",
    "                                    )\n",
    "#Listaremos apenas as colunas que precisamos\n",
    "#Listing only the columns that we will need\n",
    "data = data_normalize[['got_season','got_number','got_name']]\n",
    "\n"
   ]
  },
  {
   "cell_type": "code",
   "execution_count": null,
   "metadata": {},
   "outputs": [],
   "source": [
    "#3\n",
    "#Usamos 3 aspas duplas para tudo virar string / We use triple doouble quotes to everything inside be string\n",
    "schema = \"\"\"{\n",
    "  \"type\": \"record\",\n",
    "  \"name\": \"GOTLIST\",\n",
    "  \"fields\" : [\n",
    "    {\"name\": \"got_season\", \"type\": \"int\", \"doc\": \"Número da temporada / Season number\"},             \n",
    "    {\"name\": \"got_number\", \"type\": \"int\", \"doc\": \"Número do episódio / Episode number\"},             \n",
    "    {\"name\": \"got_name\", \"type\": \"string\", \"doc\": \"Título do episódio / Episode title\"}             \n",
    "\n",
    "  ]\n",
    "}\"\"\""
   ]
  },
  {
   "cell_type": "code",
   "execution_count": null,
   "metadata": {
    "scrolled": true
   },
   "outputs": [],
   "source": [
    "#4\n",
    "import avro.schema\n",
    "from avro.datafile import DataFileReader, DataFileWriter\n",
    "from avro.io import DatumReader, DatumWriter\n",
    "import pandas as pd\n",
    "\n",
    "schemaParse = avro.schema.Parse(schema)\n",
    "\n",
    "#Aqui nós criaremos um arquivo com a lista de episódios com o schema para validação\n",
    "#Here we create a file of GOT episodes list with the schema for validation\n",
    "writer = DataFileWriter(open(\"got_malum.avro\", \"wb\"), DatumWriter(), schemaParse)\n",
    "\n",
    "# writer.append({\"got_season\": 1, \"got_number\": 1, \"got_name\": \"Test\"})\n",
    "#Agora iremos inserir os dados da variavél data no arquivo got_malum.avro\n",
    "#Now we will insert the data from the data variable in the got_malum.avro file\n",
    "\n",
    "for index, rows in data.iterrows():\n",
    "\n",
    "    writer.append({\"got_season\": rows['got_season'], \"got_number\": rows['got_number'], \"got_name\": rows['got_name']})\n",
    "\n",
    "\n",
    "writer.close()\n"
   ]
  },
  {
   "cell_type": "code",
   "execution_count": null,
   "metadata": {},
   "outputs": [],
   "source": [
    "#Lendo o arquivo (deserializar) / reading the file (Deserialization)\n",
    "reader = DataFileReader(open(\"got_malum.avro\", \"rb\"), DatumReader())\n",
    "for user in reader:\n",
    "    print(user)\n",
    "reader.close()"
   ]
  }
 ],
 "metadata": {
  "kernelspec": {
   "display_name": "Python 3",
   "language": "python",
   "name": "python3"
  },
  "language_info": {
   "codemirror_mode": {
    "name": "ipython",
    "version": 3
   },
   "file_extension": ".py",
   "mimetype": "text/x-python",
   "name": "python",
   "nbconvert_exporter": "python",
   "pygments_lexer": "ipython3",
   "version": "3.7.3"
  }
 },
 "nbformat": 4,
 "nbformat_minor": 2
}
