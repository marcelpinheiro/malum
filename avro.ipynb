{
  "nbformat": 4,
  "nbformat_minor": 0,
  "metadata": {
    "kernelspec": {
      "display_name": "Python 3",
      "language": "python",
      "name": "python3"
    },
    "language_info": {
      "codemirror_mode": {
        "name": "ipython",
        "version": 3
      },
      "file_extension": ".py",
      "mimetype": "text/x-python",
      "name": "python",
      "nbconvert_exporter": "python",
      "pygments_lexer": "ipython3",
      "version": "3.7.3"
    },
    "colab": {
      "name": "avro.ipynb",
      "provenance": [],
      "include_colab_link": true
    }
  },
  "cells": [
    {
      "cell_type": "markdown",
      "metadata": {
        "id": "view-in-github",
        "colab_type": "text"
      },
      "source": [
        "<a href=\"https://colab.research.google.com/github/marcelpinheiro/malum/blob/master/avro.ipynb\" target=\"_parent\"><img src=\"https://colab.research.google.com/assets/colab-badge.svg\" alt=\"Open In Colab\"/></a>"
      ]
    },
    {
      "cell_type": "code",
      "metadata": {
        "scrolled": true,
        "id": "3Gu9VFpd88rS",
        "colab_type": "code",
        "colab": {
          "base_uri": "https://localhost:8080/",
          "height": 340
        },
        "outputId": "8e6121c9-40ae-441a-d3b1-c61a938b3bef"
      },
      "source": [
        "#https://malum.com.br/wp/2019/07/09/avro/\n",
        "\n",
        "#1\n",
        "!pip install avro-python3\n",
        "!pip install requests\n",
        "!pip install pandas"
      ],
      "execution_count": 1,
      "outputs": [
        {
          "output_type": "stream",
          "text": [
            "Collecting avro-python3\n",
            "  Downloading https://files.pythonhosted.org/packages/b2/5a/819537be46d65a01f8b8c6046ed05603fb9ef88c663b8cca840263788d58/avro-python3-1.10.0.tar.gz\n",
            "Building wheels for collected packages: avro-python3\n",
            "  Building wheel for avro-python3 (setup.py) ... \u001b[?25l\u001b[?25hdone\n",
            "  Created wheel for avro-python3: filename=avro_python3-1.10.0-cp36-none-any.whl size=43735 sha256=603850d4e436f63389c31bd9ce283c17231cafcbbb7bedb87c3b7a67ae0fb77a\n",
            "  Stored in directory: /root/.cache/pip/wheels/3f/15/cd/fe4ec8b88c130393464703ee8111e2cddebdc40e1b59ea85e9\n",
            "Successfully built avro-python3\n",
            "Installing collected packages: avro-python3\n",
            "Successfully installed avro-python3-1.10.0\n",
            "Requirement already satisfied: requests in /usr/local/lib/python3.6/dist-packages (2.23.0)\n",
            "Requirement already satisfied: urllib3!=1.25.0,!=1.25.1,<1.26,>=1.21.1 in /usr/local/lib/python3.6/dist-packages (from requests) (1.24.3)\n",
            "Requirement already satisfied: certifi>=2017.4.17 in /usr/local/lib/python3.6/dist-packages (from requests) (2020.6.20)\n",
            "Requirement already satisfied: idna<3,>=2.5 in /usr/local/lib/python3.6/dist-packages (from requests) (2.9)\n",
            "Requirement already satisfied: chardet<4,>=3.0.2 in /usr/local/lib/python3.6/dist-packages (from requests) (3.0.4)\n",
            "Requirement already satisfied: pandas in /usr/local/lib/python3.6/dist-packages (1.0.5)\n",
            "Requirement already satisfied: python-dateutil>=2.6.1 in /usr/local/lib/python3.6/dist-packages (from pandas) (2.8.1)\n",
            "Requirement already satisfied: numpy>=1.13.3 in /usr/local/lib/python3.6/dist-packages (from pandas) (1.18.5)\n",
            "Requirement already satisfied: pytz>=2017.2 in /usr/local/lib/python3.6/dist-packages (from pandas) (2018.9)\n",
            "Requirement already satisfied: six>=1.5 in /usr/local/lib/python3.6/dist-packages (from python-dateutil>=2.6.1->pandas) (1.12.0)\n"
          ],
          "name": "stdout"
        }
      ]
    },
    {
      "cell_type": "code",
      "metadata": {
        "id": "dn7i_sjy88rY",
        "colab_type": "code",
        "colab": {
          "base_uri": "https://localhost:8080/",
          "height": 34
        },
        "outputId": "698cb483-ac37-4391-c5f4-bf6ba6ac313a"
      },
      "source": [
        "#2\n",
        "import requests\n",
        "import pandas as pd\n",
        "\n",
        "\n",
        "dataRequest = requests.get(url='http://api.tvmaze.com/singlesearch/shows?q=game-of-thrones&embed=episodes')\n",
        "data_json = dataRequest.json()\n",
        "\n",
        "from pandas.io.json import json_normalize\n",
        "\n",
        "data_normalize = json_normalize(\n",
        "                                    #Dados deserializados\n",
        "                                    #Unserialized JSON objects\n",
        "                                    data=data_json['_embedded']\n",
        "    \n",
        "                                    #Caminho do objeto aonde estão os dados\n",
        "                                    #path of the data that you need\n",
        "                                    ,record_path='episodes'\n",
        "                                    #Prefixo das colunas. Recomendado usar para evitar ambiguidade de colunas\n",
        "                                    # Columns prefix. Recommended to use to avoid ambiguous name columns                                    \n",
        "                                    ,record_prefix='got_'\n",
        "                                    )\n",
        "#Listaremos apenas as colunas que precisamos\n",
        "#Listing only the columns that we will need\n",
        "data = data_normalize[['got_season','got_number','got_name']]\n",
        "\n"
      ],
      "execution_count": 2,
      "outputs": [
        {
          "output_type": "stream",
          "text": [
            "/usr/local/lib/python3.6/dist-packages/ipykernel_launcher.py:21: FutureWarning: pandas.io.json.json_normalize is deprecated, use pandas.json_normalize instead\n"
          ],
          "name": "stderr"
        }
      ]
    },
    {
      "cell_type": "code",
      "metadata": {
        "id": "a3mtkua_88rb",
        "colab_type": "code",
        "colab": {}
      },
      "source": [
        "#3\n",
        "#Usamos 3 aspas duplas para tudo virar string / We use triple doouble quotes to everything inside be string\n",
        "schema = \"\"\"{\n",
        "  \"type\": \"record\",\n",
        "  \"name\": \"GOTLIST\",\n",
        "  \"fields\" : [\n",
        "    {\"name\": \"got_season\", \"type\": \"int\", \"doc\": \"Número da temporada / Season number\"},             \n",
        "    {\"name\": \"got_number\", \"type\": \"int\", \"doc\": \"Número do episódio / Episode number\"},             \n",
        "    {\"name\": \"got_name\", \"type\": \"string\", \"doc\": \"Título do episódio / Episode title\"}             \n",
        "\n",
        "  ]\n",
        "}\"\"\""
      ],
      "execution_count": 3,
      "outputs": []
    },
    {
      "cell_type": "code",
      "metadata": {
        "scrolled": true,
        "id": "oClLg2MG88re",
        "colab_type": "code",
        "colab": {}
      },
      "source": [
        "#4\n",
        "import avro.schema\n",
        "from avro.datafile import DataFileReader, DataFileWriter\n",
        "from avro.io import DatumReader, DatumWriter\n",
        "import pandas as pd\n",
        "\n",
        "schemaParse = avro.schema.Parse(schema)\n",
        "\n",
        "#Aqui nós criaremos um arquivo com a lista de episódios com o schema para validação\n",
        "#Here we create a file of GOT episodes list with the schema for validation\n",
        "writer = DataFileWriter(open(\"got_malum.avro\", \"wb\"), DatumWriter(), schemaParse)\n",
        "\n",
        "# writer.append({\"got_season\": 1, \"got_number\": 1, \"got_name\": \"Test\"})\n",
        "#Agora iremos inserir os dados da variavél data no arquivo got_malum.avro\n",
        "#Now we will insert the data from the data variable in the got_malum.avro file\n",
        "\n",
        "for index, rows in data.iterrows():\n",
        "\n",
        "    writer.append({\"got_season\": rows['got_season'], \"got_number\": rows['got_number'], \"got_name\": rows['got_name']})\n",
        "\n",
        "\n",
        "writer.close()\n"
      ],
      "execution_count": 4,
      "outputs": []
    },
    {
      "cell_type": "code",
      "metadata": {
        "id": "0_DafAvP88rh",
        "colab_type": "code",
        "colab": {
          "base_uri": "https://localhost:8080/",
          "height": 1000
        },
        "outputId": "9c213ea5-8ac0-4a27-c58b-3f6b4a2c99f7"
      },
      "source": [
        "#Lendo o arquivo (deserializar) / reading the file (Deserialization)\n",
        "reader = DataFileReader(open(\"got_malum.avro\", \"rb\"), DatumReader())\n",
        "for user in reader:\n",
        "    print(user)\n",
        "reader.close()"
      ],
      "execution_count": 5,
      "outputs": [
        {
          "output_type": "stream",
          "text": [
            "{'got_season': 1, 'got_number': 1, 'got_name': 'Winter is Coming'}\n",
            "{'got_season': 1, 'got_number': 2, 'got_name': 'The Kingsroad'}\n",
            "{'got_season': 1, 'got_number': 3, 'got_name': 'Lord Snow'}\n",
            "{'got_season': 1, 'got_number': 4, 'got_name': 'Cripples, Bastards, and Broken Things'}\n",
            "{'got_season': 1, 'got_number': 5, 'got_name': 'The Wolf and the Lion'}\n",
            "{'got_season': 1, 'got_number': 6, 'got_name': 'A Golden Crown'}\n",
            "{'got_season': 1, 'got_number': 7, 'got_name': 'You Win or You Die'}\n",
            "{'got_season': 1, 'got_number': 8, 'got_name': 'The Pointy End'}\n",
            "{'got_season': 1, 'got_number': 9, 'got_name': 'Baelor'}\n",
            "{'got_season': 1, 'got_number': 10, 'got_name': 'Fire and Blood'}\n",
            "{'got_season': 2, 'got_number': 1, 'got_name': 'The North Remembers'}\n",
            "{'got_season': 2, 'got_number': 2, 'got_name': 'The Night Lands'}\n",
            "{'got_season': 2, 'got_number': 3, 'got_name': 'What is Dead May Never Die'}\n",
            "{'got_season': 2, 'got_number': 4, 'got_name': 'Garden of Bones'}\n",
            "{'got_season': 2, 'got_number': 5, 'got_name': 'The Ghost of Harrenhal'}\n",
            "{'got_season': 2, 'got_number': 6, 'got_name': 'The Old Gods and the New'}\n",
            "{'got_season': 2, 'got_number': 7, 'got_name': 'A Man Without Honor'}\n",
            "{'got_season': 2, 'got_number': 8, 'got_name': 'The Prince of Winterfell'}\n",
            "{'got_season': 2, 'got_number': 9, 'got_name': 'Blackwater'}\n",
            "{'got_season': 2, 'got_number': 10, 'got_name': 'Valar Morghulis'}\n",
            "{'got_season': 3, 'got_number': 1, 'got_name': 'Valar Dohaeris'}\n",
            "{'got_season': 3, 'got_number': 2, 'got_name': 'Dark Wings, Dark Words'}\n",
            "{'got_season': 3, 'got_number': 3, 'got_name': 'Walk of Punishment'}\n",
            "{'got_season': 3, 'got_number': 4, 'got_name': 'And Now His Watch is Ended'}\n",
            "{'got_season': 3, 'got_number': 5, 'got_name': 'Kissed by Fire'}\n",
            "{'got_season': 3, 'got_number': 6, 'got_name': 'The Climb'}\n",
            "{'got_season': 3, 'got_number': 7, 'got_name': 'The Bear and the Maiden Fair'}\n",
            "{'got_season': 3, 'got_number': 8, 'got_name': 'Second Sons'}\n",
            "{'got_season': 3, 'got_number': 9, 'got_name': 'The Rains of Castamere'}\n",
            "{'got_season': 3, 'got_number': 10, 'got_name': 'Mhysa'}\n",
            "{'got_season': 4, 'got_number': 1, 'got_name': 'Two Swords'}\n",
            "{'got_season': 4, 'got_number': 2, 'got_name': 'The Lion and the Rose'}\n",
            "{'got_season': 4, 'got_number': 3, 'got_name': 'Breaker of Chains'}\n",
            "{'got_season': 4, 'got_number': 4, 'got_name': 'Oathkeeper'}\n",
            "{'got_season': 4, 'got_number': 5, 'got_name': 'First of His Name'}\n",
            "{'got_season': 4, 'got_number': 6, 'got_name': 'The Laws of Gods and Men'}\n",
            "{'got_season': 4, 'got_number': 7, 'got_name': 'Mockingbird'}\n",
            "{'got_season': 4, 'got_number': 8, 'got_name': 'The Mountain and the Viper'}\n",
            "{'got_season': 4, 'got_number': 9, 'got_name': 'The Watchers on the Wall'}\n",
            "{'got_season': 4, 'got_number': 10, 'got_name': 'The Children'}\n",
            "{'got_season': 5, 'got_number': 1, 'got_name': 'The Wars to Come'}\n",
            "{'got_season': 5, 'got_number': 2, 'got_name': 'The House of Black and White'}\n",
            "{'got_season': 5, 'got_number': 3, 'got_name': 'High Sparrow'}\n",
            "{'got_season': 5, 'got_number': 4, 'got_name': 'Sons of the Harpy'}\n",
            "{'got_season': 5, 'got_number': 5, 'got_name': 'Kill the Boy'}\n",
            "{'got_season': 5, 'got_number': 6, 'got_name': 'Unbowed, Unbent, Unbroken'}\n",
            "{'got_season': 5, 'got_number': 7, 'got_name': 'The Gift'}\n",
            "{'got_season': 5, 'got_number': 8, 'got_name': 'Hardhome'}\n",
            "{'got_season': 5, 'got_number': 9, 'got_name': 'The Dance of Dragons'}\n",
            "{'got_season': 5, 'got_number': 10, 'got_name': \"Mother's Mercy\"}\n",
            "{'got_season': 6, 'got_number': 1, 'got_name': 'The Red Woman'}\n",
            "{'got_season': 6, 'got_number': 2, 'got_name': 'Home'}\n",
            "{'got_season': 6, 'got_number': 3, 'got_name': 'Oathbreaker'}\n",
            "{'got_season': 6, 'got_number': 4, 'got_name': 'Book of the Stranger'}\n",
            "{'got_season': 6, 'got_number': 5, 'got_name': 'The Door'}\n",
            "{'got_season': 6, 'got_number': 6, 'got_name': 'Blood of My Blood'}\n",
            "{'got_season': 6, 'got_number': 7, 'got_name': 'The Broken Man'}\n",
            "{'got_season': 6, 'got_number': 8, 'got_name': 'No One'}\n",
            "{'got_season': 6, 'got_number': 9, 'got_name': 'Battle of the Bastards'}\n",
            "{'got_season': 6, 'got_number': 10, 'got_name': 'The Winds of Winter'}\n",
            "{'got_season': 7, 'got_number': 1, 'got_name': 'Dragonstone'}\n",
            "{'got_season': 7, 'got_number': 2, 'got_name': 'Stormborn'}\n",
            "{'got_season': 7, 'got_number': 3, 'got_name': \"The Queen's Justice\"}\n",
            "{'got_season': 7, 'got_number': 4, 'got_name': 'The Spoils of War'}\n",
            "{'got_season': 7, 'got_number': 5, 'got_name': 'Eastwatch'}\n",
            "{'got_season': 7, 'got_number': 6, 'got_name': 'Beyond the Wall'}\n",
            "{'got_season': 7, 'got_number': 7, 'got_name': 'The Dragon and the Wolf'}\n",
            "{'got_season': 8, 'got_number': 1, 'got_name': 'Winterfell'}\n",
            "{'got_season': 8, 'got_number': 2, 'got_name': 'A Knight of the Seven Kingdoms'}\n",
            "{'got_season': 8, 'got_number': 3, 'got_name': 'The Long Night'}\n",
            "{'got_season': 8, 'got_number': 4, 'got_name': 'The Last of the Starks'}\n",
            "{'got_season': 8, 'got_number': 5, 'got_name': 'The Bells'}\n",
            "{'got_season': 8, 'got_number': 6, 'got_name': 'The Iron Throne'}\n"
          ],
          "name": "stdout"
        }
      ]
    }
  ]
}